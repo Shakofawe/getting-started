{
 "cells": [
  {
   "cell_type": "code",
   "execution_count": 6,
   "metadata": {},
   "outputs": [
    {
     "name": "stdout",
     "output_type": "stream",
     "text": [
      "No Kanye, don't eat that shoe.\n",
      "No Kanye, don't slap that fish.\n",
      "No Kanye, don't play that flute.\n"
     ]
    }
   ],
   "source": [
    "def tragedy(object, verb):\n",
    "   print (\"No Kanye, don't \" + verb + \" that \" + object + \".\")\n",
    "tragedy(\"shoe\", \"eat\")\n",
    "tragedy(\"fish\", \"slap\")\n",
    "tragedy(\"flute\", \"play\")\n"
   ]
  },
  {
   "cell_type": "code",
   "execution_count": 7,
   "metadata": {},
   "outputs": [
    {
     "name": "stdout",
     "output_type": "stream",
     "text": [
      "14.0\n",
      "45.0\n",
      "4.842105263157895\n"
     ]
    }
   ],
   "source": [
    "def bigmath(x, y, z):\n",
    "    print(x*y/z)\n",
    "bigmath(7,6,3)\n",
    "bigmath(9,5,1)\n",
    "bigmath(4,23,19)"
   ]
  },
  {
   "cell_type": "code",
   "execution_count": null,
   "metadata": {},
   "outputs": [],
   "source": []
  }
 ],
 "metadata": {
  "kernelspec": {
   "display_name": "Python 3 (ipykernel)",
   "language": "python",
   "name": "python3"
  },
  "language_info": {
   "codemirror_mode": {
    "name": "ipython",
    "version": 3
   },
   "file_extension": ".py",
   "mimetype": "text/x-python",
   "name": "python",
   "nbconvert_exporter": "python",
   "pygments_lexer": "ipython3",
   "version": "3.9.10+"
  }
 },
 "nbformat": 4,
 "nbformat_minor": 2
}
